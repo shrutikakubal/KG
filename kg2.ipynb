{
  "nbformat": 4,
  "nbformat_minor": 0,
  "metadata": {
    "colab": {
      "provenance": [],
      "gpuType": "T4",
      "authorship_tag": "ABX9TyNLxojPqmFPc7tjS2uijPpn",
      "include_colab_link": true
    },
    "kernelspec": {
      "name": "python3",
      "display_name": "Python 3"
    },
    "language_info": {
      "name": "python"
    },
    "accelerator": "GPU"
  },
  "cells": [
    {
      "cell_type": "markdown",
      "metadata": {
        "id": "view-in-github",
        "colab_type": "text"
      },
      "source": [
        "<a href=\"https://colab.research.google.com/github/shrutikakubal/KG/blob/main/kg2.ipynb\" target=\"_parent\"><img src=\"https://colab.research.google.com/assets/colab-badge.svg\" alt=\"Open In Colab\"/></a>"
      ]
    },
    {
      "cell_type": "code",
      "execution_count": 17,
      "metadata": {
        "id": "AxYYncduXTM-",
        "colab": {
          "base_uri": "https://localhost:8080/"
        },
        "outputId": "f079a207-9411-4e65-81bb-55c1a1610593"
      },
      "outputs": [
        {
          "output_type": "stream",
          "name": "stdout",
          "text": [
            "Traceback (most recent call last):\n",
            "  File \"<frozen importlib._bootstrap>\", line 1027, in _find_and_load\n",
            "  File \"<frozen importlib._bootstrap>\", line 1006, in _find_and_load_unlocked\n",
            "  File \"<frozen importlib._bootstrap>\", line 688, in _load_unlocked\n",
            "  File \"<frozen importlib._bootstrap_external>\", line 883, in exec_module\n",
            "  File \"<frozen importlib._bootstrap>\", line 241, in _call_with_frames_removed\n",
            "  File \"/usr/local/lib/python3.10/dist-packages/thinc/__init__.py\", line 5, in <module>\n",
            "    from .config import registry\n",
            "  File \"/usr/local/lib/python3.10/dist-packages/thinc/config.py\", line 5, in <module>\n",
            "    from .types import Decorator\n",
            "  File \"/usr/local/lib/python3.10/dist-packages/thinc/types.py\", line 25, in <module>\n",
            "    from .compat import cupy, has_cupy\n",
            "  File \"/usr/local/lib/python3.10/dist-packages/thinc/compat.py\", line 35, in <module>\n",
            "    import torch\n",
            "  File \"/usr/local/lib/python3.10/dist-packages/torch/__init__.py\", line 1504, in <module>\n",
            "    from . import masked\n",
            "  File \"/usr/local/lib/python3.10/dist-packages/torch/masked/__init__.py\", line 3, in <module>\n",
            "    from ._ops import (\n",
            "  File \"/usr/local/lib/python3.10/dist-packages/torch/masked/_ops.py\", line 11, in <module>\n",
            "    from torch._prims_common import corresponding_real_dtype\n",
            "  File \"/usr/local/lib/python3.10/dist-packages/torch/_prims_common/__init__.py\", line 23, in <module>\n",
            "    import sympy\n",
            "  File \"/usr/local/lib/python3.10/dist-packages/sympy/__init__.py\", line 30, in <module>\n",
            "    from sympy.core.cache import lazy_function\n",
            "  File \"/usr/local/lib/python3.10/dist-packages/sympy/core/__init__.py\", line 9, in <module>\n",
            "    from .expr import Expr, AtomicExpr, UnevaluatedExpr\n",
            "  File \"/usr/local/lib/python3.10/dist-packages/sympy/core/expr.py\", line 4159, in <module>\n",
            "    from .mul import Mul\n",
            "  File \"/usr/local/lib/python3.10/dist-packages/sympy/core/mul.py\", line 2193, in <module>\n",
            "    from .numbers import Rational\n",
            "  File \"/usr/local/lib/python3.10/dist-packages/sympy/core/numbers.py\", line 3821, in <module>\n",
            "    class NumberSymbol(AtomicExpr):\n",
            "  File \"/usr/local/lib/python3.10/dist-packages/sympy/core/basic.py\", line 121, in __init_subclass__\n",
            "    _prepare_class_assumptions(cls)\n",
            "  File \"/usr/local/lib/python3.10/dist-packages/sympy/core/assumptions.py\", line 638, in _prepare_class_assumptions\n",
            "    cls.default_assumptions = StdFactKB(defs)\n",
            "  File \"/usr/local/lib/python3.10/dist-packages/sympy/core/assumptions.py\", line 479, in __init__\n",
            "    self.deduce_all_facts(facts)\n",
            "  File \"/usr/local/lib/python3.10/dist-packages/sympy/core/facts.py\", line 633, in deduce_all_facts\n",
            "    if all(self.get(k) is v for k, v in bcond):\n",
            "KeyboardInterrupt\n",
            "\n",
            "During handling of the above exception, another exception occurred:\n",
            "\n",
            "Traceback (most recent call last):\n",
            "  File \"/usr/lib/python3.10/runpy.py\", line 187, in _run_module_as_main\n",
            "    mod_name, mod_spec, code = _get_module_details(mod_name, _Error)\n",
            "  File \"/usr/lib/python3.10/runpy.py\", line 146, in _get_module_details\n",
            "    return _get_module_details(pkg_main_name, error)\n",
            "  File \"/usr/lib/python3.10/runpy.py\", line 110, in _get_module_details\n",
            "    __import__(pkg_name)\n",
            "  File \"/usr/local/lib/python3.10/dist-packages/spacy/__init__.py\", line 6, in <module>\n",
            "    from .errors import setup_default_warnings\n",
            "  File \"/usr/local/lib/python3.10/dist-packages/spacy/errors.py\", line 3, in <module>\n",
            "    from .compat import Literal\n",
            "  File \"/usr/local/lib/python3.10/dist-packages/spacy/compat.py\", line 4, in <module>\n",
            "    from thinc.util import copy_array\n",
            "  File \"<frozen importlib._bootstrap>\", line 1024, in _find_and_load\n",
            "  File \"<frozen importlib._bootstrap>\", line 174, in __exit__\n",
            "  File \"<frozen importlib._bootstrap>\", line 128, in release\n",
            "KeyboardInterrupt\n",
            "^C\n",
            "Collecting bitsandbytes\n",
            "  Downloading bitsandbytes-0.42.0-py3-none-any.whl (105.0 MB)\n",
            "\u001b[2K     \u001b[90m━━━━━━━━━━━━━━━━━━━━━━━━━━━━━━━━━━━━━━━━\u001b[0m \u001b[32m105.0/105.0 MB\u001b[0m \u001b[31m7.5 MB/s\u001b[0m eta \u001b[36m0:00:00\u001b[0m\n",
            "\u001b[?25hRequirement already satisfied: scipy in /usr/local/lib/python3.10/dist-packages (from bitsandbytes) (1.11.4)\n",
            "Requirement already satisfied: numpy<1.28.0,>=1.21.6 in /usr/local/lib/python3.10/dist-packages (from scipy->bitsandbytes) (1.25.2)\n",
            "Installing collected packages: bitsandbytes\n",
            "Successfully installed bitsandbytes-0.42.0\n"
          ]
        }
      ],
      "source": [
        "#!pip install spacy-transformers\n",
        "import spacy\n",
        "#BERT\n",
        "!python -m spacy download en_core_web_trf\n",
        "#!pip install accelerate\n",
        "!pip install bitsandbytes"
      ]
    },
    {
      "cell_type": "code",
      "source": [
        "import spacy\n",
        "nlp = spacy.load('en_core_web_trf')\n",
        "doc = nlp(\"Apple shares rose on the news. Apple pie is delicious.\")\n",
        "from spacy.matcher import Matcher\n",
        "from spacy.tokens import Span\n",
        "import networkx as nx\n",
        "import matplotlib.pyplot as plt\n",
        "from tqdm import tqdm\n",
        "# Extract named entities\n",
        "entities = [(ent.text, ent.label_) for ent in doc.ents]\n",
        "# Print results\n",
        "if entities:\n",
        "   print(\"NamedEntities:\")\n",
        "   for entity, label in entities:\n",
        "       print(f\"{entity} - {label}\")\n",
        "else:\n",
        "  print(\"No named entities found in the sentence.\")\n",
        "for tok in doc:\n",
        "    print(tok.text, \"...\", tok.dep_)"
      ],
      "metadata": {
        "colab": {
          "base_uri": "https://localhost:8080/"
        },
        "id": "kHmkrH6bnTHd",
        "outputId": "a5609594-b104-40fb-c0f2-1d8873e481e1"
      },
      "execution_count": 1,
      "outputs": [
        {
          "output_type": "stream",
          "name": "stdout",
          "text": [
            "NamedEntities:\n",
            "Apple - ORG\n",
            "Apple ... compound\n",
            "shares ... nsubj\n",
            "rose ... ROOT\n",
            "on ... prep\n",
            "the ... det\n",
            "news ... pobj\n",
            ". ... punct\n",
            "Apple ... compound\n",
            "pie ... nsubj\n",
            "is ... ROOT\n",
            "delicious ... acomp\n",
            ". ... punct\n"
          ]
        }
      ]
    },
    {
      "cell_type": "code",
      "source": [
        "#entity pair extraction\n",
        "def get_entities(sent):\n",
        "    ## chunk 1\n",
        "    ent1 = \"\"\n",
        "    ent2 = \"\"\n",
        "\n",
        "    prv_tok_dep = \"\"  # dependency tag of previous token in the sentence\n",
        "    prv_tok_text = \"\"  # previous token in the sentence\n",
        "    prev_subject = \"\" # prev subject\n",
        "    prev_object = \"\" # prev object\n",
        "\n",
        "    prefix = \"\"\n",
        "    modifier = \"\"\n",
        "    label = \"\"\n",
        "\n",
        "    for tok in nlp(sent):\n",
        "        ## chunk 2\n",
        "        # if token is a punctuation mark then move on to the next token\n",
        "        if tok.dep_ != \"punct\":\n",
        "            # check: token is a compound word or not\n",
        "            if tok.dep_ == \"compound\":\n",
        "                prefix = tok.text\n",
        "                # if the previous word was also a 'compound' then add the current word to it\n",
        "                if prv_tok_dep == \"compound\":\n",
        "                    prefix = prv_tok_text + \" \" + tok.text\n",
        "\n",
        "            # check: token is a modifier (adjective, quantifier, \"very\" before \"very quickly\") or not\n",
        "            if tok.dep_.endswith(\"mod\") == True:\n",
        "                modifier = tok.text\n",
        "                # if the previous word was also a 'compound' then add the current word to it (e.g. \"goodbye, highrise\")\n",
        "                if prv_tok_dep == \"compound\":\n",
        "                    modifier = prv_tok_text + \" \" + tok.text\n",
        "\n",
        "            ## chunk 3 - find subject (entity one)\n",
        "            if tok.dep_.find(\"subj\") == True:\n",
        "              if tok.pos_==\"PRON\" and prev_subject!=\"\":\n",
        "                ent1 = prev_subject\n",
        "              else:\n",
        "                ent1 = modifier + \" \" + prefix + \" \" + tok.text\n",
        "              prefix = \"\"\n",
        "              modifier = \"\"\n",
        "              prv_tok_dep = \"\"\n",
        "              prv_tok_text = \"\"\n",
        "              prev_subject = ent1\n",
        "\n",
        "                ## chunk 4 - find object (entity two)\n",
        "            if tok.dep_.find(\"obj\") == True:\n",
        "              if tok.pos_==\"PRON\" and prev_object!=\"\":\n",
        "                ent2 = prev_object\n",
        "              else:\n",
        "                ent2 = modifier + \" \" + prefix + \" \" + tok.text\n",
        "                prev_object = ent2\n",
        "\n",
        "              ## chunk 6 - add label\n",
        "            if tok.dep_ != \"ROOT\" and prv_tok_dep == \"dobj\" and tok.dep_== \"acl\":\n",
        "              for child in tok.children:\n",
        "              # Check if the dependent is an adjective clause modifier\n",
        "                if child.dep_ == \"oprd\":\n",
        "                  subtree_text = \"\"\n",
        "                  for sub_token in child.subtree:\n",
        "                    if not sub_token.is_punct:\n",
        "                      subtree_text += sub_token.text + \" \"\n",
        "            # Print the dependent and its subtree\n",
        "                    label = subtree_text.strip()\n",
        "                if ent2!=\"\":\n",
        "                  ent2 = ent2 + \" \" + tok.text + \" \" + label\n",
        "                  prev_object = ent2\n",
        "\n",
        "            ## chunk 5\n",
        "            # update variables\n",
        "            prv_tok_dep = tok.dep_\n",
        "            prv_tok_text = tok.text\n",
        "\n",
        "    #############################################################\n",
        "    return [ent1.strip(), ent2.strip()]\n",
        "\n",
        "\n",
        "def  get_relation(sent):\n",
        "\n",
        "    doc = nlp(sent)\n",
        "\n",
        "    # Matcher class object\n",
        "    matcher = Matcher(nlp.vocab)\n",
        "\n",
        "    #find root, prepositional modifier, agent (do-er), adjective\n",
        "    pattern = [{'DEP':'ROOT'},\n",
        "            {'DEP':'prep','OP':\"?\"},\n",
        "            {'DEP':'agent','OP':\"?\"},\n",
        "            {'POS':'ADJ','OP':\"?\"}]\n",
        "\n",
        "    matcher.add(\"matching_1\",[pattern])\n",
        "\n",
        "    matches = matcher(doc)\n",
        "    k = len(matches) - 1\n",
        "\n",
        "    #last matching substring\n",
        "    span = doc[matches[k][1]:matches[k][2]]\n",
        "\n",
        "    return(span.text)"
      ],
      "metadata": {
        "id": "7j2o7OZunygs"
      },
      "execution_count": 2,
      "outputs": []
    },
    {
      "cell_type": "code",
      "source": [
        "def split_sentence_by_nsubj(sentence):\n",
        "    # Parse the sentence with spaCy\n",
        "    doc = nlp(sentence)\n",
        "\n",
        "    # Initialize variables to store sentence parts\n",
        "    sentence_parts = []\n",
        "    current_part = []\n",
        "\n",
        "    # Iterate through the tokens\n",
        "    for token in doc:\n",
        "        # If the token is a subject, start a new part\n",
        "        if token.dep_ == \"nsubj\":\n",
        "            if current_part:\n",
        "                sentence_parts.append(\" \".join(current_part))\n",
        "                current_part = []\n",
        "        # Add token to the current part\n",
        "        current_part.append(token.text)\n",
        "\n",
        "    # Add the last part to the list\n",
        "    if current_part:\n",
        "        sentence_parts.append(\" \".join(current_part))\n",
        "\n",
        "    return sentence_parts\n",
        "\n",
        "def split_sentence(sentence):\n",
        "    # Parse the sentence with spaCy\n",
        "    doc = nlp(sentence)\n",
        "\n",
        "    # Initialize variables to store sentence parts\n",
        "    sentence_parts = []\n",
        "    subject_indices = []\n",
        "# Find the subject and verb indices\n",
        "    for token in doc:\n",
        "        if token.dep_ == \"nsubj\":\n",
        "            subject_indices.append(token.i)\n",
        "    # If both subject and verb are found, split the sentence\n",
        "    if(len(subject_indices)>1):\n",
        "      for j in range(len(subject_indices)-1):\n",
        "        # Split the sentence into two parts\n",
        "        if doc[subject_indices[j+1]].pos_==\"PRON\":\n",
        "          text = \" \".join([token.text for token in doc[subject_indices[j]:subject_indices[j+1]]])\n",
        "        else:\n",
        "          text = \" \".join([token.text for token in doc[subject_indices[j]:subject_indices[j+1]+1]])\n",
        "        sentence_parts.append(text)\n",
        "\n",
        "      text = \" \".join([token.text for token in doc[subject_indices[j+1]:]])\n",
        "      sentence_parts.append(text)\n",
        "      return sentence_parts\n",
        "    else:\n",
        "      return sentence"
      ],
      "metadata": {
        "id": "GMNSKu1qmWSQ"
      },
      "execution_count": 3,
      "outputs": []
    },
    {
      "cell_type": "code",
      "source": [
        "#print(get_entities(\"what did lions gate entertainment produce? They produced bambi.\"))\n",
        "#get_relation(\"the film is narrated by chiranjeevi.\")\n",
        "\n",
        "#split_sentence_by_nsubj(\"what did lions gate entertainment produce? They produced bambi.\")\n",
        "doc=nlp(\"Alice finds a fan that enables her to shrink enough to get into the Garden\")\n",
        "for tok in doc:\n",
        "    print(tok.text, \"...\", tok.dep_, \"...\", tok.pos_,)\n",
        "print(split_sentence(\"Alice finds a fan that enables her to shrink enough to get into the Garden\"))"
      ],
      "metadata": {
        "colab": {
          "base_uri": "https://localhost:8080/"
        },
        "id": "nEFZ5BFVnz0S",
        "outputId": "23ea9b7b-9e04-4ee9-d6f4-57a27d67da63"
      },
      "execution_count": 4,
      "outputs": [
        {
          "output_type": "stream",
          "name": "stdout",
          "text": [
            "Alice ... nsubj ... PROPN\n",
            "finds ... ROOT ... VERB\n",
            "a ... det ... DET\n",
            "fan ... dobj ... NOUN\n",
            "that ... nsubj ... PRON\n",
            "enables ... relcl ... VERB\n",
            "her ... dobj ... PRON\n",
            "to ... aux ... PART\n",
            "shrink ... xcomp ... VERB\n",
            "enough ... advmod ... ADV\n",
            "to ... aux ... PART\n",
            "get ... xcomp ... VERB\n",
            "into ... prep ... ADP\n",
            "the ... det ... DET\n",
            "Garden ... pobj ... PROPN\n",
            "['Alice finds a fan', 'that enables her to shrink enough to get into the Garden']\n"
          ]
        }
      ]
    },
    {
      "cell_type": "code",
      "source": [
        "# Access the named entity recognizer (NER) component\n",
        "ner = nlp.get_pipe(\"ner\")\n",
        "\n",
        "# Get all the entity types recognized by the model\n",
        "entity_types = ner.labels\n",
        "\n",
        "# Print the entity types\n",
        "print(\"Entity types:\", entity_types)"
      ],
      "metadata": {
        "colab": {
          "base_uri": "https://localhost:8080/"
        },
        "id": "Voav4It6o-sB",
        "outputId": "70bc60ac-1e30-45e6-b7e7-7e1bc2f95633"
      },
      "execution_count": 5,
      "outputs": [
        {
          "output_type": "stream",
          "name": "stdout",
          "text": [
            "Entity types: ('CARDINAL', 'DATE', 'EVENT', 'FAC', 'GPE', 'LANGUAGE', 'LAW', 'LOC', 'MONEY', 'NORP', 'ORDINAL', 'ORG', 'PERCENT', 'PERSON', 'PRODUCT', 'QUANTITY', 'TIME', 'WORK_OF_ART')\n"
          ]
        }
      ]
    },
    {
      "cell_type": "code",
      "source": [
        "import pandas as pd\n",
        "paragraph = 'Alice follows a large white rabbit down a \"Rabbit-hole\". Alice finds a tiny door. When Alice finds a bottle labeled \"Drink me\", she does. Alice shrinks, but not enough to pass through the door. Alice then eats something labeled \"Eat me\" and grows larger. Alice finds a fan. that enables her to shrink enough to get into the \"Garden\". Alice tries to get a \"Dog\" to play with her. She enters the \"White Rabbits tiny House,\" but suddenly resumes her normal size. In order to get out, she has to use the \"magic fan.\"'\n",
        "# Split paragraph into sentences by punctuation\n",
        "sentences = paragraph.split('. ')\n",
        "\n",
        "# Create DataFrame\n",
        "sents = pd.DataFrame({'Sentence': sentences})\n",
        "\n",
        "# Print DataFrame\n",
        "print(sents)\n",
        "doc=nlp(\"Alice tries to get a 'Dog' to play with her\")\n",
        "for tok in doc:\n",
        "    print(tok.text, \"...\", tok.dep_, \"...\", tok.pos_,)\n",
        "\n"
      ],
      "metadata": {
        "colab": {
          "base_uri": "https://localhost:8080/"
        },
        "id": "OBKIvp1XylF9",
        "outputId": "01158144-688b-424e-bc03-767bcac7f7d1"
      },
      "execution_count": 6,
      "outputs": [
        {
          "output_type": "stream",
          "name": "stdout",
          "text": [
            "                                            Sentence\n",
            "0  Alice follows a large white rabbit down a \"Rab...\n",
            "1                            Alice finds a tiny door\n",
            "2  When Alice finds a bottle labeled \"Drink me\", ...\n",
            "3  Alice shrinks, but not enough to pass through ...\n",
            "4  Alice then eats something labeled \"Eat me\" and...\n",
            "5                                  Alice finds a fan\n",
            "6  that enables her to shrink enough to get into ...\n",
            "7        Alice tries to get a \"Dog\" to play with her\n",
            "8  She enters the \"White Rabbits tiny House,\" but...\n",
            "9  In order to get out, she has to use the \"magic...\n",
            "Alice ... nsubj ... PROPN\n",
            "tries ... ROOT ... VERB\n",
            "to ... aux ... PART\n",
            "get ... xcomp ... VERB\n",
            "a ... det ... DET\n",
            "' ... punct ... PUNCT\n",
            "Dog ... nsubj ... NOUN\n",
            "' ... punct ... PUNCT\n",
            "to ... aux ... PART\n",
            "play ... ccomp ... VERB\n",
            "with ... prep ... ADP\n",
            "her ... pobj ... PRON\n"
          ]
        }
      ]
    },
    {
      "cell_type": "code",
      "source": [
        "entity_pairs = []\n",
        "\n",
        "for i in sents[\"Sentence\"]:\n",
        "    entity_pairs.append(get_entities(i))\n",
        "relations = [get_relation(i) for i in sents[\"Sentence\"]]\n"
      ],
      "metadata": {
        "id": "SNE6jj-jzSXB"
      },
      "execution_count": 7,
      "outputs": []
    },
    {
      "cell_type": "code",
      "source": [
        "# extract subject\n",
        "source = [i[0] for i in entity_pairs]\n",
        "# extract object\n",
        "target = [i[1] for i in entity_pairs]\n",
        "\n",
        "kg_df = pd.DataFrame({'source':source, 'edge':relations, 'target':target})\n",
        "print(kg_df)"
      ],
      "metadata": {
        "colab": {
          "base_uri": "https://localhost:8080/"
        },
        "id": "y1y6JGkuzygf",
        "outputId": "6e23cbe2-d461-4465-8927-577e813928a1"
      },
      "execution_count": 8,
      "outputs": [
        {
          "output_type": "stream",
          "name": "stdout",
          "text": [
            "        source     edge                          target\n",
            "0        Alice  follows               white Rabbit hole\n",
            "1        Alice    finds                      tiny  door\n",
            "2  When  Alice     does         bottle labeled Drink me\n",
            "3        Alice  shrinks                    enough  door\n",
            "4        Alice     eats  then  something labeled Eat me\n",
            "5        Alice    finds                             fan\n",
            "6         that  enables                  enough  Garden\n",
            "7          Dog    tries                             her\n",
            "8          She   enters                    normal  size\n",
            "9          she      has                      magic  fan\n"
          ]
        }
      ]
    },
    {
      "cell_type": "code",
      "source": [
        "#create graph\n",
        "G=nx.from_pandas_edgelist(kg_df, \"source\", \"target\",\n",
        "                          edge_attr=True, create_using=nx.MultiDiGraph())\n",
        "plt.figure(figsize=(10,10))\n",
        "\n",
        "pos = nx.spring_layout(G)\n",
        "nx.draw(G, with_labels=True, node_color='skyblue', edge_cmap=plt.cm.Blues, pos = pos, node_size=200, font_size=6)\n",
        "edge_labels = {(source, target): attr['edge'] for source, target, attr in G.edges(data=True)}\n",
        "nx.draw_networkx_edge_labels(G, pos=pos, edge_labels=edge_labels, font_size=5)\n",
        "\n",
        "plt.show()\n"
      ],
      "metadata": {
        "colab": {
          "base_uri": "https://localhost:8080/",
          "height": 1000
        },
        "id": "pPjNdLHoIh-t",
        "outputId": "93253870-df19-432e-d2a6-6c5bff1fc29e"
      },
      "execution_count": 9,
      "outputs": [
        {
          "output_type": "display_data",
          "data": {
            "text/plain": [
              "<Figure size 1000x1000 with 1 Axes>"
            ],
            "image/png": "[encoded data removed]"
          },
          "metadata": {}
        }
      ]
    },
    {
      "cell_type": "code",
      "source": [
        "sentence = \"When Alice finds a bottle labeled 'Drink me', she does.\"\n",
        "#!pip install spacy-transformers\n",
        "#nlp = spacy.load('en_core_web_trf')\n",
        "# Iterate through the tokens\n",
        "for token in doc:\n",
        "    # If the token is the main verb (\"finds\")\n",
        "    if token.dep_ != \"ROOT\":\n",
        "# Iterate through the root token's children\n",
        "      for child in token.children:\n",
        "        # Check if the dependent is an adjective clause modifier\n",
        "        if child.dep_ == \"acl\":\n",
        "            # Print the dependent and its subtree\n",
        "            #print(token, token.dep_, child.text, [(sub_token.text, sub_token.dep_, sub_token.pos_) for sub_token in child.subtree if sub_token.is_punct == False])\n",
        "            subtree_text = \"\"\n",
        "            for sub_token in child.subtree:\n",
        "                if not sub_token.is_punct:\n",
        "                    subtree_text += sub_token.text + \" \"\n",
        "            # Print the dependent and its subtree\n",
        "            #print(subtree_text.strip())\n"
      ],
      "metadata": {
        "id": "obDi4HEEQXal"
      },
      "execution_count": 13,
      "outputs": []
    },
    {
      "cell_type": "code",
      "source": [
        "triples = kg_df.apply(lambda row: '; '.join(row), axis=1).tolist()\n",
        "context = \"(\"+\"),(\".join(triples)\n",
        "\n",
        "print(context)"
      ],
      "metadata": {
        "colab": {
          "base_uri": "https://localhost:8080/"
        },
        "id": "ILyO4ZhOGzg0",
        "outputId": "32b07c89-3dd6-4621-9645-2a110350f538"
      },
      "execution_count": 14,
      "outputs": [
        {
          "output_type": "stream",
          "name": "stdout",
          "text": [
            "(Alice; follows; white Rabbit hole),(Alice; finds; tiny  door),(When  Alice; does; bottle labeled Drink me),(Alice; shrinks; enough  door),(Alice; eats; then  something labeled Eat me),(Alice; finds; fan),(that; enables; enough  Garden),(Dog; tries; her),(She; enters; normal  size),(she; has; magic  fan\n"
          ]
        }
      ]
    },
    {
      "cell_type": "code",
      "source": [
        "import torch\n",
        "#from constants import MAX_NEW_TOKENS, MODEL_FAMILY_DICT\n",
        "from transformers import AutoTokenizer, AutoModelForCausalLM\n",
        "\n",
        "MODEL_FAMILY_DICT = {\n",
        "    # embeddings\n",
        "    \"text-embedding-ada-002\": \"openai\",\n",
        "    \"all-MiniLM-L6-v2\": \"sentence-transformers\",\n",
        "    \"BAAI/bge-base-en-v1.5\": \"sentence-transformers\",\n",
        "    \"BAAI/bge-large-en-v1.5\": \"sentence-transformers\",\n",
        "    # generators\n",
        "    \"gpt-35-turbo\": \"openai\",\n",
        "    \"gpt-35-turbo-16k\": \"openai\",\n",
        "    \"gpt-4\": \"openai\",\n",
        "    \"gpt-4-0613\": \"openai\",\n",
        "    \"mistralai/Mistral-7B-v0.1\": \"transformers\",\n",
        "    \"mistralai/Mistral-7B-Instruct-v0.1\": \"transformers\",\n",
        "    \"mistralai/Mistral-7B-Instruct-v0.2\": \"transformers\",\n",
        "    \"mistralai/Mixtral-8x7B-Instruct-v0.1\": \"transformers\",\n",
        "    \"microsoft/phi-2\": \"transformers\",\n",
        "    \"gemini-pro\": \"google\",\n",
        "}\n",
        "\n",
        "def HuggingFaceGenerator(model_name, MAX_NEW_TOKENS):\n",
        "  max_new_tokens = MAX_NEW_TOKENS\n",
        "\n",
        "        # model = self.generator_name\n",
        "        # # model = \"mistralai/Mixtral-8x7B-Instruct-v0.1\"\n",
        "  tokenizer = AutoTokenizer.from_pretrained(model_name, trust_remote_code=True)\n",
        "  model = AutoModelForCausalLM.from_pretrained(\n",
        "            model_name,\n",
        "           load_in_4bit=True,\n",
        "            torch_dtype=torch.float16,\n",
        "            bnb_4bit_compute_dtype=torch.float16,\n",
        "            device_map=\"auto\",\n",
        "            trust_remote_code=True,\n",
        "            )\n",
        "\n",
        "def HuggingGenerate(prompt, max_length=100, num_return_sequences=1):\n",
        "  inputs = self.tokenizer(prompt, return_tensors=\"pt\").to(self.device)\n",
        "  outputs = self.model.generate(\n",
        "            **inputs,\n",
        "            max_new_tokens=MAX_NEW_TOKENS,\n",
        "            pad_token_id=self.tokenizer.eos_token_id,\n",
        "        )\n",
        "  answer = self.tokenizer.batch_decode(outputs)[0][len(prompt):]\n",
        "  return answer"
      ],
      "metadata": {
        "id": "hxoOoXLreAOE"
      },
      "execution_count": 10,
      "outputs": []
    },
    {
      "cell_type": "code",
      "source": [
        "\n",
        "triples = kg_df.apply(lambda row: '; '.join(row), axis=1).tolist()\n",
        "context = \"(\"+\"),(\".join(triples)\n",
        "\n",
        "# Generator\n",
        "model_name=\"mistralai/Mistral-7B-Instruct-v0.1\"\n",
        "tokenizer = AutoTokenizer.from_pretrained(model_name, trust_remote_code=True)\n",
        "model = AutoModelForCausalLM.from_pretrained(\n",
        "            model_name,\n",
        "           load_in_4bit=True,\n",
        "            torch_dtype=torch.float16,\n",
        "            bnb_4bit_compute_dtype=torch.float16,\n",
        "            device_map=\"auto\",\n",
        "            trust_remote_code=True,\n",
        "            )\n",
        "while True:\n",
        "    query = input(\"Ask a question: \")\n",
        "    if query == \"exit\":\n",
        "      break\n",
        "\n",
        "    from pprint import pprint\n",
        "    pprint(context)\n",
        "\n",
        "    RAG_prompt = f\"\"\"You are an assistant for question-answering tasks.\n",
        "            The context is given to you in the form of (source; relation; target).\n",
        "            If you don't know the answer, just say that you don't know.\n",
        "            Use only the context to answer.\n",
        "            Question: {query}\n",
        "            Context: {context}\n",
        "            Answer:\n",
        "        \"\"\"\n",
        "    #answer = generator.generate(RAG_prompt)\n",
        "    inputs = tokenizer(RAG_prompt, return_tensors=\"pt\")\n",
        "    outputs = model.generate(\n",
        "            **inputs,\n",
        "            max_new_tokens=32,\n",
        "            pad_token_id=tokenizer.eos_token_id,\n",
        "        )\n",
        "    answer = tokenizer.batch_decode(outputs)[0][len(RAG_prompt):]\n",
        "    print(answer)"
      ],
      "metadata": {
        "colab": {
          "base_uri": "https://localhost:8080/",
          "height": 211
        },
        "id": "4XWYQZ8Fe8Q7",
        "outputId": "7ade667c-a8e2-4950-ae88-5d7e21bb2f48"
      },
      "execution_count": 1,
      "outputs": [
        {
          "output_type": "error",
          "ename": "NameError",
          "evalue": "name 'kg_df' is not defined",
          "traceback": [
            "\u001b[0;31m---------------------------------------------------------------------------\u001b[0m",
            "\u001b[0;31mNameError\u001b[0m                                 Traceback (most recent call last)",
            "\u001b[0;32m<ipython-input-1-dec79366d9a2>\u001b[0m in \u001b[0;36m<cell line: 1>\u001b[0;34m()\u001b[0m\n\u001b[0;32m----> 1\u001b[0;31m \u001b[0mtriples\u001b[0m \u001b[0;34m=\u001b[0m \u001b[0mkg_df\u001b[0m\u001b[0;34m.\u001b[0m\u001b[0mapply\u001b[0m\u001b[0;34m(\u001b[0m\u001b[0;32mlambda\u001b[0m \u001b[0mrow\u001b[0m\u001b[0;34m:\u001b[0m \u001b[0;34m'; '\u001b[0m\u001b[0;34m.\u001b[0m\u001b[0mjoin\u001b[0m\u001b[0;34m(\u001b[0m\u001b[0mrow\u001b[0m\u001b[0;34m)\u001b[0m\u001b[0;34m,\u001b[0m \u001b[0maxis\u001b[0m\u001b[0;34m=\u001b[0m\u001b[0;36m1\u001b[0m\u001b[0;34m)\u001b[0m\u001b[0;34m.\u001b[0m\u001b[0mtolist\u001b[0m\u001b[0;34m(\u001b[0m\u001b[0;34m)\u001b[0m\u001b[0;34m\u001b[0m\u001b[0;34m\u001b[0m\u001b[0m\n\u001b[0m\u001b[1;32m      2\u001b[0m \u001b[0mcontext\u001b[0m \u001b[0;34m=\u001b[0m \u001b[0;34m\"(\"\u001b[0m\u001b[0;34m+\u001b[0m\u001b[0;34m\"),(\"\u001b[0m\u001b[0;34m.\u001b[0m\u001b[0mjoin\u001b[0m\u001b[0;34m(\u001b[0m\u001b[0mtriples\u001b[0m\u001b[0;34m)\u001b[0m\u001b[0;34m\u001b[0m\u001b[0;34m\u001b[0m\u001b[0m\n\u001b[1;32m      3\u001b[0m \u001b[0;34m\u001b[0m\u001b[0m\n\u001b[1;32m      4\u001b[0m \u001b[0;31m# Generator\u001b[0m\u001b[0;34m\u001b[0m\u001b[0;34m\u001b[0m\u001b[0m\n\u001b[1;32m      5\u001b[0m \u001b[0mmodel_name\u001b[0m\u001b[0;34m=\u001b[0m\u001b[0;34m\"mistralai/Mistral-7B-Instruct-v0.1\"\u001b[0m\u001b[0;34m\u001b[0m\u001b[0;34m\u001b[0m\u001b[0m\n",
            "\u001b[0;31mNameError\u001b[0m: name 'kg_df' is not defined"
          ]
        }
      ]
    }
  ]
}